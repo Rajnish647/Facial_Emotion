{
 "cells": [
  {
   "cell_type": "code",
   "execution_count": 1,
   "id": "4745e482",
   "metadata": {},
   "outputs": [],
   "source": [
    "import numpy as np\n"
   ]
  },
  {
   "cell_type": "code",
   "execution_count": 2,
   "id": "64d7e38e",
   "metadata": {},
   "outputs": [],
   "source": [
    "import tensorflow as tf"
   ]
  },
  {
   "cell_type": "code",
   "execution_count": 3,
   "id": "3cbbde81",
   "metadata": {},
   "outputs": [],
   "source": [
    "import os\n",
    "os.environ['KMP_DUPLICATE_LIB_OK']='True'"
   ]
  },
  {
   "cell_type": "code",
   "execution_count": 4,
   "id": "78bcb9c4",
   "metadata": {},
   "outputs": [],
   "source": [
    "from tensorflow.keras.preprocessing.image import ImageDataGenerator"
   ]
  },
  {
   "cell_type": "code",
   "execution_count": 5,
   "id": "ff1721f5",
   "metadata": {},
   "outputs": [],
   "source": [
    "train_image = ImageDataGenerator(rescale=1./255,\n",
    "                                 shear_range=0.2,\n",
    "                                 zoom_range=0.2,\n",
    "                                 horizontal_flip=True)"
   ]
  },
  {
   "cell_type": "code",
   "execution_count": 6,
   "id": "30c80413",
   "metadata": {},
   "outputs": [],
   "source": [
    "val_image = ImageDataGenerator(rescale=1./255)"
   ]
  },
  {
   "cell_type": "code",
   "execution_count": 7,
   "id": "c7a296d2",
   "metadata": {},
   "outputs": [
    {
     "name": "stdout",
     "output_type": "stream",
     "text": [
      "Found 28709 images belonging to 7 classes.\n"
     ]
    }
   ],
   "source": [
    "train_set = train_image.flow_from_directory('train/',\n",
    "                                           target_size=(48,48),\n",
    "                                           batch_size=32,\n",
    "                                           class_mode='categorical',\n",
    "                                           color_mode = \"grayscale\",\n",
    "                                           shuffle=True)"
   ]
  },
  {
   "cell_type": "code",
   "execution_count": 8,
   "id": "9d65ae5f",
   "metadata": {},
   "outputs": [
    {
     "name": "stdout",
     "output_type": "stream",
     "text": [
      "Found 7178 images belonging to 7 classes.\n"
     ]
    }
   ],
   "source": [
    "val_set = val_image.flow_from_directory('test/',\n",
    "                                       target_size=(48,48),\n",
    "                                       batch_size=32,\n",
    "                                       class_mode='categorical',\n",
    "                                       color_mode='grayscale',\n",
    "                                       shuffle = True)"
   ]
  },
  {
   "cell_type": "code",
   "execution_count": 9,
   "id": "37a5a1a9",
   "metadata": {},
   "outputs": [],
   "source": [
    "from tensorflow.keras.models import Sequential"
   ]
  },
  {
   "cell_type": "code",
   "execution_count": 10,
   "id": "20a8745e",
   "metadata": {},
   "outputs": [],
   "source": [
    "from tensorflow.keras.layers import Dense,Conv2D, Flatten, MaxPool2D, Dropout"
   ]
  },
  {
   "cell_type": "code",
   "execution_count": 11,
   "id": "20757103",
   "metadata": {},
   "outputs": [],
   "source": [
    "cnn = Sequential()"
   ]
  },
  {
   "cell_type": "code",
   "execution_count": 12,
   "id": "2360215f",
   "metadata": {},
   "outputs": [],
   "source": [
    "cnn.add(Conv2D(32, kernel_size=3,activation='relu', input_shape=(48,48,1)))"
   ]
  },
  {
   "cell_type": "code",
   "execution_count": 13,
   "id": "9d5e6eb9",
   "metadata": {},
   "outputs": [],
   "source": [
    "#cnn.add(MaxPool2D(pool_size=(2,2)))"
   ]
  },
  {
   "cell_type": "code",
   "execution_count": 14,
   "id": "cc9b587e",
   "metadata": {},
   "outputs": [],
   "source": [
    "#cnn.add(Dropout(0.25))"
   ]
  },
  {
   "cell_type": "markdown",
   "id": "e27c6443",
   "metadata": {},
   "source": [
    "Second Layer of CNN"
   ]
  },
  {
   "cell_type": "code",
   "execution_count": 15,
   "id": "cbb624bf",
   "metadata": {},
   "outputs": [],
   "source": [
    "cnn.add(Conv2D(64, kernel_size=3, activation='relu'))"
   ]
  },
  {
   "cell_type": "code",
   "execution_count": 16,
   "id": "cc4c6864",
   "metadata": {},
   "outputs": [],
   "source": [
    "cnn.add(MaxPool2D(pool_size=(2,2)))"
   ]
  },
  {
   "cell_type": "code",
   "execution_count": null,
   "id": "e7968a8c",
   "metadata": {},
   "outputs": [],
   "source": []
  },
  {
   "cell_type": "code",
   "execution_count": null,
   "id": "f4a26f35",
   "metadata": {},
   "outputs": [],
   "source": []
  },
  {
   "cell_type": "code",
   "execution_count": 17,
   "id": "7b8f8ab3",
   "metadata": {},
   "outputs": [],
   "source": [
    "cnn.add(Dropout(0.25))"
   ]
  },
  {
   "cell_type": "markdown",
   "id": "b680e80d",
   "metadata": {},
   "source": [
    "Third Layer"
   ]
  },
  {
   "cell_type": "code",
   "execution_count": 18,
   "id": "0bde111f",
   "metadata": {},
   "outputs": [],
   "source": [
    "cnn.add(Conv2D(128, kernel_size=3, activation='relu'))"
   ]
  },
  {
   "cell_type": "code",
   "execution_count": 19,
   "id": "4baacf6d",
   "metadata": {},
   "outputs": [],
   "source": [
    "cnn.add(MaxPool2D(pool_size=(2,2)))"
   ]
  },
  {
   "cell_type": "code",
   "execution_count": 20,
   "id": "cac548d2",
   "metadata": {},
   "outputs": [],
   "source": [
    "cnn.add(Conv2D(256, kernel_size=3, activation='relu'))"
   ]
  },
  {
   "cell_type": "code",
   "execution_count": 21,
   "id": "e0c57da7",
   "metadata": {},
   "outputs": [],
   "source": [
    "cnn.add(MaxPool2D(pool_size=(2,2)))"
   ]
  },
  {
   "cell_type": "code",
   "execution_count": 22,
   "id": "b465044c",
   "metadata": {},
   "outputs": [],
   "source": [
    "cnn.add(Dropout(0.25))"
   ]
  },
  {
   "cell_type": "code",
   "execution_count": 23,
   "id": "23f8d2ae",
   "metadata": {},
   "outputs": [],
   "source": [
    "cnn.add(Flatten())"
   ]
  },
  {
   "cell_type": "code",
   "execution_count": 24,
   "id": "3b85fea8",
   "metadata": {},
   "outputs": [],
   "source": [
    "cnn.add(Dense(1024, activation='relu'))"
   ]
  },
  {
   "cell_type": "code",
   "execution_count": 25,
   "id": "32564072",
   "metadata": {},
   "outputs": [],
   "source": [
    "cnn.add(Dropout(0.25))"
   ]
  },
  {
   "cell_type": "code",
   "execution_count": 26,
   "id": "bdf4c546",
   "metadata": {},
   "outputs": [],
   "source": [
    "#cnn.add(Dense(512, activation='relu'))"
   ]
  },
  {
   "cell_type": "code",
   "execution_count": 27,
   "id": "0ebbcc57",
   "metadata": {},
   "outputs": [],
   "source": [
    "#cnn.add(Dropout(0.25))"
   ]
  },
  {
   "cell_type": "code",
   "execution_count": 28,
   "id": "264106f2",
   "metadata": {},
   "outputs": [],
   "source": [
    "cnn.add(Dense(7, activation='softmax'))"
   ]
  },
  {
   "cell_type": "code",
   "execution_count": 29,
   "id": "5b6064d2",
   "metadata": {},
   "outputs": [],
   "source": [
    "cnn.compile(optimizer='adam', loss='categorical_crossentropy', metrics=['accuracy'])"
   ]
  },
  {
   "cell_type": "code",
   "execution_count": 30,
   "id": "f73eb2fd",
   "metadata": {},
   "outputs": [
    {
     "name": "stdout",
     "output_type": "stream",
     "text": [
      "Model: \"sequential\"\n",
      "_________________________________________________________________\n",
      "Layer (type)                 Output Shape              Param #   \n",
      "=================================================================\n",
      "conv2d (Conv2D)              (None, 46, 46, 32)        320       \n",
      "_________________________________________________________________\n",
      "conv2d_1 (Conv2D)            (None, 44, 44, 64)        18496     \n",
      "_________________________________________________________________\n",
      "max_pooling2d (MaxPooling2D) (None, 22, 22, 64)        0         \n",
      "_________________________________________________________________\n",
      "dropout (Dropout)            (None, 22, 22, 64)        0         \n",
      "_________________________________________________________________\n",
      "conv2d_2 (Conv2D)            (None, 20, 20, 128)       73856     \n",
      "_________________________________________________________________\n",
      "max_pooling2d_1 (MaxPooling2 (None, 10, 10, 128)       0         \n",
      "_________________________________________________________________\n",
      "conv2d_3 (Conv2D)            (None, 8, 8, 256)         295168    \n",
      "_________________________________________________________________\n",
      "max_pooling2d_2 (MaxPooling2 (None, 4, 4, 256)         0         \n",
      "_________________________________________________________________\n",
      "dropout_1 (Dropout)          (None, 4, 4, 256)         0         \n",
      "_________________________________________________________________\n",
      "flatten (Flatten)            (None, 4096)              0         \n",
      "_________________________________________________________________\n",
      "dense (Dense)                (None, 1024)              4195328   \n",
      "_________________________________________________________________\n",
      "dropout_2 (Dropout)          (None, 1024)              0         \n",
      "_________________________________________________________________\n",
      "dense_1 (Dense)              (None, 7)                 7175      \n",
      "=================================================================\n",
      "Total params: 4,590,343\n",
      "Trainable params: 4,590,343\n",
      "Non-trainable params: 0\n",
      "_________________________________________________________________\n"
     ]
    }
   ],
   "source": [
    "cnn.summary()"
   ]
  },
  {
   "cell_type": "code",
   "execution_count": 32,
   "id": "d7ad3706",
   "metadata": {},
   "outputs": [
    {
     "name": "stdout",
     "output_type": "stream",
     "text": [
      "Epoch 1/30\n",
      "448/448 [==============================] - 80s 178ms/step - loss: 1.1205 - accuracy: 0.5812 - val_loss: 1.1463 - val_accuracy: 0.5650\n",
      "Epoch 2/30\n",
      "448/448 [==============================] - 88s 197ms/step - loss: 1.1074 - accuracy: 0.5823 - val_loss: 1.0972 - val_accuracy: 0.5837\n",
      "Epoch 3/30\n",
      "448/448 [==============================] - 93s 207ms/step - loss: 1.1073 - accuracy: 0.5782 - val_loss: 1.0589 - val_accuracy: 0.6060\n",
      "Epoch 4/30\n",
      "448/448 [==============================] - 93s 208ms/step - loss: 1.1084 - accuracy: 0.5805 - val_loss: 1.1062 - val_accuracy: 0.5753\n",
      "Epoch 5/30\n",
      "448/448 [==============================] - 96s 213ms/step - loss: 1.0893 - accuracy: 0.5928 - val_loss: 1.0808 - val_accuracy: 0.5957\n",
      "Epoch 6/30\n",
      "448/448 [==============================] - 95s 212ms/step - loss: 1.0904 - accuracy: 0.5909 - val_loss: 1.0891 - val_accuracy: 0.5887\n",
      "Epoch 7/30\n",
      "448/448 [==============================] - 94s 210ms/step - loss: 1.0815 - accuracy: 0.5906 - val_loss: 1.0773 - val_accuracy: 0.5968\n",
      "Epoch 8/30\n",
      "448/448 [==============================] - 94s 210ms/step - loss: 1.0848 - accuracy: 0.5937 - val_loss: 1.0641 - val_accuracy: 0.5985\n",
      "Epoch 9/30\n",
      "448/448 [==============================] - 93s 208ms/step - loss: 1.0682 - accuracy: 0.5977 - val_loss: 1.0786 - val_accuracy: 0.5924\n",
      "Epoch 10/30\n",
      "448/448 [==============================] - 94s 209ms/step - loss: 1.0643 - accuracy: 0.5997 - val_loss: 1.0757 - val_accuracy: 0.6055\n",
      "Epoch 11/30\n",
      "448/448 [==============================] - 110s 245ms/step - loss: 1.0632 - accuracy: 0.5987 - val_loss: 1.0719 - val_accuracy: 0.5985\n",
      "Epoch 12/30\n",
      "448/448 [==============================] - 99s 220ms/step - loss: 1.0631 - accuracy: 0.5990 - val_loss: 1.0484 - val_accuracy: 0.6060\n",
      "Epoch 13/30\n",
      "448/448 [==============================] - 93s 207ms/step - loss: 1.0406 - accuracy: 0.6076 - val_loss: 1.0584 - val_accuracy: 0.5996\n",
      "Epoch 14/30\n",
      "448/448 [==============================] - 90s 201ms/step - loss: 1.0386 - accuracy: 0.6104 - val_loss: 1.0902 - val_accuracy: 0.5999\n",
      "Epoch 15/30\n",
      "448/448 [==============================] - 90s 201ms/step - loss: 1.0401 - accuracy: 0.6081 - val_loss: 1.0548 - val_accuracy: 0.6097\n",
      "Epoch 16/30\n",
      "448/448 [==============================] - 98s 219ms/step - loss: 1.0324 - accuracy: 0.6094 - val_loss: 1.0773 - val_accuracy: 0.6071\n",
      "Epoch 17/30\n",
      "448/448 [==============================] - 89s 198ms/step - loss: 1.0260 - accuracy: 0.6123 - val_loss: 1.0458 - val_accuracy: 0.6063\n",
      "Epoch 18/30\n",
      "448/448 [==============================] - 93s 207ms/step - loss: 1.0289 - accuracy: 0.6154 - val_loss: 1.0256 - val_accuracy: 0.6063\n",
      "Epoch 19/30\n",
      "448/448 [==============================] - 96s 214ms/step - loss: 1.0244 - accuracy: 0.6148 - val_loss: 1.0410 - val_accuracy: 0.6102\n",
      "Epoch 20/30\n",
      "448/448 [==============================] - 96s 213ms/step - loss: 1.0218 - accuracy: 0.6143 - val_loss: 1.0648 - val_accuracy: 0.6044\n",
      "Epoch 21/30\n",
      "448/448 [==============================] - 94s 209ms/step - loss: 1.0068 - accuracy: 0.6169 - val_loss: 1.0263 - val_accuracy: 0.6136\n",
      "Epoch 22/30\n",
      "448/448 [==============================] - 93s 206ms/step - loss: 1.0082 - accuracy: 0.6173 - val_loss: 1.0457 - val_accuracy: 0.6130\n",
      "Epoch 23/30\n",
      "448/448 [==============================] - 90s 200ms/step - loss: 1.0141 - accuracy: 0.6154 - val_loss: 1.0430 - val_accuracy: 0.6069\n",
      "Epoch 24/30\n",
      "448/448 [==============================] - 91s 203ms/step - loss: 0.9941 - accuracy: 0.6238 - val_loss: 1.0628 - val_accuracy: 0.6055\n",
      "Epoch 25/30\n",
      "448/448 [==============================] - 92s 205ms/step - loss: 1.0024 - accuracy: 0.6251 - val_loss: 1.0625 - val_accuracy: 0.5979\n",
      "Epoch 26/30\n",
      "448/448 [==============================] - 94s 210ms/step - loss: 0.9900 - accuracy: 0.6325 - val_loss: 1.0229 - val_accuracy: 0.6152\n",
      "Epoch 27/30\n",
      "448/448 [==============================] - 90s 201ms/step - loss: 0.9882 - accuracy: 0.6315 - val_loss: 1.0545 - val_accuracy: 0.6102\n",
      "Epoch 28/30\n",
      "448/448 [==============================] - 90s 200ms/step - loss: 0.9845 - accuracy: 0.6296 - val_loss: 1.0478 - val_accuracy: 0.6141\n",
      "Epoch 29/30\n",
      "448/448 [==============================] - 88s 197ms/step - loss: 0.9800 - accuracy: 0.6318 - val_loss: 1.0440 - val_accuracy: 0.6105\n",
      "Epoch 30/30\n",
      "448/448 [==============================] - 91s 203ms/step - loss: 0.9587 - accuracy: 0.6445 - val_loss: 1.0631 - val_accuracy: 0.6069\n"
     ]
    }
   ],
   "source": [
    "model_info = cnn.fit_generator(train_set,\n",
    "                               steps_per_epoch = 28709 // 64,\n",
    "                               epochs = 30,\n",
    "                               validation_data=val_set,\n",
    "                               validation_steps = 7178 // 64)"
   ]
  },
  {
   "cell_type": "code",
   "execution_count": 1,
   "id": "8f4181cb",
   "metadata": {},
   "outputs": [
    {
     "ename": "NameError",
     "evalue": "name 'train_set' is not defined",
     "output_type": "error",
     "traceback": [
      "\u001b[1;31m---------------------------------------------------------------------------\u001b[0m",
      "\u001b[1;31mNameError\u001b[0m                                 Traceback (most recent call last)",
      "\u001b[1;32mC:\\Users\\RAJNIS~1\\AppData\\Local\\Temp/ipykernel_7060/185578369.py\u001b[0m in \u001b[0;36m<module>\u001b[1;34m\u001b[0m\n\u001b[1;32m----> 1\u001b[1;33m \u001b[0mtrain_set\u001b[0m\u001b[1;33m.\u001b[0m\u001b[0mclass_indices\u001b[0m\u001b[1;33m\u001b[0m\u001b[1;33m\u001b[0m\u001b[0m\n\u001b[0m",
      "\u001b[1;31mNameError\u001b[0m: name 'train_set' is not defined"
     ]
    }
   ],
   "source": [
    "train_set.class_indices"
   ]
  },
  {
   "cell_type": "code",
   "execution_count": 26,
   "id": "d1d40f5f",
   "metadata": {},
   "outputs": [],
   "source": [
    "from tensorflow.keras.preprocessing import image"
   ]
  },
  {
   "cell_type": "code",
   "execution_count": 35,
   "id": "bfe707d2",
   "metadata": {},
   "outputs": [],
   "source": [
    "test_image = image.load_img('test/angry/PrivateTest_10131363.jpg', target_size=(48,48))"
   ]
  },
  {
   "cell_type": "code",
   "execution_count": 36,
   "id": "145d88e0",
   "metadata": {},
   "outputs": [],
   "source": [
    "test_image = image.img_to_array(test_image)"
   ]
  },
  {
   "cell_type": "code",
   "execution_count": 37,
   "id": "b69a641e",
   "metadata": {},
   "outputs": [],
   "source": [
    "test_image = np.expand_dims(test_image,axis = 0)"
   ]
  },
  {
   "cell_type": "code",
   "execution_count": 38,
   "id": "1e2eabc9",
   "metadata": {},
   "outputs": [
    {
     "data": {
      "text/plain": [
       "(1, 48, 48, 3)"
      ]
     },
     "execution_count": 38,
     "metadata": {},
     "output_type": "execute_result"
    }
   ],
   "source": [
    "test_image.shape"
   ]
  },
  {
   "cell_type": "code",
   "execution_count": 43,
   "id": "de987882",
   "metadata": {},
   "outputs": [],
   "source": [
    "prediction = cnn.predict(test_image)"
   ]
  },
  {
   "cell_type": "code",
   "execution_count": 44,
   "id": "24c99a0b",
   "metadata": {},
   "outputs": [
    {
     "data": {
      "text/plain": [
       "array([[7.8640274e-13, 0.0000000e+00, 1.0000000e+00, 0.0000000e+00,\n",
       "        0.0000000e+00, 0.0000000e+00, 0.0000000e+00]], dtype=float32)"
      ]
     },
     "execution_count": 44,
     "metadata": {},
     "output_type": "execute_result"
    }
   ],
   "source": [
    "prediction"
   ]
  },
  {
   "cell_type": "code",
   "execution_count": 42,
   "id": "fa1329f5",
   "metadata": {},
   "outputs": [
    {
     "data": {
      "text/plain": [
       "2"
      ]
     },
     "execution_count": 42,
     "metadata": {},
     "output_type": "execute_result"
    }
   ],
   "source": [
    "prediction"
   ]
  },
  {
   "cell_type": "code",
   "execution_count": 33,
   "id": "c9cfffdb",
   "metadata": {},
   "outputs": [
    {
     "ename": "AttributeError",
     "evalue": "'History' object has no attribute 'save'",
     "output_type": "error",
     "traceback": [
      "\u001b[1;31m---------------------------------------------------------------------------\u001b[0m",
      "\u001b[1;31mAttributeError\u001b[0m                            Traceback (most recent call last)",
      "\u001b[1;32mC:\\Users\\RAJNIS~1\\AppData\\Local\\Temp/ipykernel_1264/1914879294.py\u001b[0m in \u001b[0;36m<module>\u001b[1;34m\u001b[0m\n\u001b[0;32m      1\u001b[0m \u001b[0mfilename\u001b[0m \u001b[1;33m=\u001b[0m \u001b[1;34m\"model2.h5\"\u001b[0m\u001b[1;33m\u001b[0m\u001b[1;33m\u001b[0m\u001b[0m\n\u001b[1;32m----> 2\u001b[1;33m \u001b[0mmodel_info\u001b[0m\u001b[1;33m.\u001b[0m\u001b[0msave\u001b[0m\u001b[1;33m(\u001b[0m\u001b[0mfilename\u001b[0m\u001b[1;33m)\u001b[0m\u001b[1;33m\u001b[0m\u001b[1;33m\u001b[0m\u001b[0m\n\u001b[0m",
      "\u001b[1;31mAttributeError\u001b[0m: 'History' object has no attribute 'save'"
     ]
    }
   ],
   "source": [
    "filename = \"model2.h5\"\n",
    "model_info.save(filename)"
   ]
  },
  {
   "cell_type": "code",
   "execution_count": null,
   "id": "6cc28473",
   "metadata": {},
   "outputs": [],
   "source": []
  }
 ],
 "metadata": {
  "kernelspec": {
   "display_name": "Python 3 (ipykernel)",
   "language": "python",
   "name": "python3"
  },
  "language_info": {
   "codemirror_mode": {
    "name": "ipython",
    "version": 3
   },
   "file_extension": ".py",
   "mimetype": "text/x-python",
   "name": "python",
   "nbconvert_exporter": "python",
   "pygments_lexer": "ipython3",
   "version": "3.9.7"
  }
 },
 "nbformat": 4,
 "nbformat_minor": 5
}
