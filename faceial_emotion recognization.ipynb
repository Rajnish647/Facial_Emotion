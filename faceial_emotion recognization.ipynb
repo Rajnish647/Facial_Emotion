{
 "cells": [
  {
   "cell_type": "code",
   "execution_count": 1,
   "id": "4a2e8bcb",
   "metadata": {},
   "outputs": [],
   "source": [
    "import cv2\n",
    "import numpy as np\n",
    "import tensorflow"
   ]
  },
  {
   "cell_type": "code",
   "execution_count": 2,
   "id": "562d1459",
   "metadata": {},
   "outputs": [],
   "source": [
    "from tensorflow.keras.models import load_model"
   ]
  },
  {
   "cell_type": "code",
   "execution_count": 3,
   "id": "453c837d",
   "metadata": {},
   "outputs": [],
   "source": [
    "model = load_model('model1.h5')"
   ]
  },
  {
   "cell_type": "code",
   "execution_count": 4,
   "id": "a3357d74",
   "metadata": {},
   "outputs": [],
   "source": [
    "face_cascade = cv2.CascadeClassifier('haarcascade_frontalcatface_extended.xml')"
   ]
  },
  {
   "cell_type": "code",
   "execution_count": 5,
   "id": "f6921ad6",
   "metadata": {},
   "outputs": [],
   "source": [
    "emotion_labels = ['Angry', 'Disgust', 'Fear', 'Happy', 'Neutral', 'Sad', 'Surprise']"
   ]
  },
  {
   "cell_type": "code",
   "execution_count": 6,
   "id": "ba8907c0",
   "metadata": {},
   "outputs": [],
   "source": [
    "from tensorflow.keras.preprocessing import image"
   ]
  },
  {
   "cell_type": "code",
   "execution_count": null,
   "id": "62a91d61",
   "metadata": {},
   "outputs": [],
   "source": []
  },
  {
   "cell_type": "code",
   "execution_count": null,
   "id": "a753f195",
   "metadata": {},
   "outputs": [],
   "source": []
  },
  {
   "cell_type": "code",
   "execution_count": 31,
   "id": "5205c318",
   "metadata": {},
   "outputs": [],
   "source": [
    "cap = cv2.VideoCapture(1) \n",
    "\n",
    "while(True):\n",
    "    ret, frame = cap.read(1)\n",
    "    label = []\n",
    "    #frame = cv2.cvtColor(frame, cv2.COLOR_BGR2RGB)\n",
    "    face = face_cascade.detectMultiScale(frame)\n",
    "    for (x,y,w,h) in face:\n",
    "        cv2.rectangle(frame, (x,y), (x+w, y+h), (0,255,255), 2)\n",
    "        \n",
    "    resize = cv2.resize(frame, (48,48))\n",
    "    if resize.shape == (48,48,3):\n",
    "        resize = resize.astype('float')/255.0\n",
    "        resize = image.img_to_array(resize)\n",
    "        resize = np.expand_dims(resize, axis = 0)\n",
    "        prediction = model.predict(resize)\n",
    "        label = emotion_labels[prediction.argmax()]\n",
    "        label_position = (x-10, y-10)\n",
    "        cv2.putText(frame,label,label_position, cv2.FONT_HERSHEY_SIMPLEX,1,(0,255,0),2)\n",
    "        \n",
    "        \n",
    "\n",
    "                \n",
    "    cv2.imshow('Emotion', frame);\n",
    "    if cv2.waitKey(1) & 0xff == ord('q'):\n",
    "        break\n",
    "\n",
    "            \n",
    "cap.release()\n",
    "cv2.destroyAllWindows()"
   ]
  },
  {
   "cell_type": "code",
   "execution_count": null,
   "id": "4324bf1c",
   "metadata": {},
   "outputs": [],
   "source": []
  },
  {
   "cell_type": "code",
   "execution_count": null,
   "id": "d9d222c9",
   "metadata": {},
   "outputs": [],
   "source": []
  }
 ],
 "metadata": {
  "kernelspec": {
   "display_name": "Python 3 (ipykernel)",
   "language": "python",
   "name": "python3"
  },
  "language_info": {
   "codemirror_mode": {
    "name": "ipython",
    "version": 3
   },
   "file_extension": ".py",
   "mimetype": "text/x-python",
   "name": "python",
   "nbconvert_exporter": "python",
   "pygments_lexer": "ipython3",
   "version": "3.9.7"
  }
 },
 "nbformat": 4,
 "nbformat_minor": 5
}
